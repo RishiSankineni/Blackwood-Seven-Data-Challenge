{
 "cells": [
  {
   "cell_type": "markdown",
   "metadata": {},
   "source": [
    "# Challenge #2: Arithmetic"
   ]
  },
  {
   "cell_type": "markdown",
   "metadata": {},
   "source": [
    "## The purpose of this challenge is to test candidates’ basic knowledge of Bayesian statistics and arithmetic skills. Using the data set provided, please write your own Bayesian algorithm to categorize map_publisher to channel for the given dataset.  "
   ]
  },
  {
   "cell_type": "markdown",
   "metadata": {},
   "source": [
    "### Author : Rishi Sankineni "
   ]
  },
  {
   "cell_type": "markdown",
   "metadata": {},
   "source": [
    "### Step 1: Import all the necessary Python modules."
   ]
  },
  {
   "cell_type": "code",
   "execution_count": 29,
   "metadata": {
    "collapsed": false
   },
   "outputs": [],
   "source": [
    "import pandas as pd \n",
    "import wordninja \n",
    "from sklearn.preprocessing import LabelEncoder\n",
    "from sklearn.feature_extraction.text import TfidfVectorizer\n",
    "from sklearn.feature_extraction.text import TfidfTransformer\n",
    "from sklearn.model_selection import train_test_split\n",
    "from sklearn.feature_extraction.text import CountVectorizer\n",
    "from sklearn.naive_bayes import MultinomialNB\n",
    "import warnings\n",
    "warnings.filterwarnings('ignore')"
   ]
  },
  {
   "cell_type": "code",
   "execution_count": 20,
   "metadata": {
    "collapsed": false
   },
   "outputs": [],
   "source": [
    "# Load the publisher channel mapping dataset using Pandas and read it into a DataFrame.\n",
    "pub_chan_map = pd.read_csv(\"publisher_channel_mapping.csv\",low_memory=False) "
   ]
  },
  {
   "cell_type": "code",
   "execution_count": 21,
   "metadata": {
    "collapsed": false
   },
   "outputs": [
    {
     "data": {
      "text/html": [
       "<div>\n",
       "<table border=\"1\" class=\"dataframe\">\n",
       "  <thead>\n",
       "    <tr style=\"text-align: right;\">\n",
       "      <th></th>\n",
       "      <th>map_publisher</th>\n",
       "      <th>channel</th>\n",
       "    </tr>\n",
       "  </thead>\n",
       "  <tbody>\n",
       "    <tr>\n",
       "      <th>0</th>\n",
       "      <td>4music</td>\n",
       "      <td>paidtelevision</td>\n",
       "    </tr>\n",
       "    <tr>\n",
       "      <th>1</th>\n",
       "      <td>4seven</td>\n",
       "      <td>paidtelevision</td>\n",
       "    </tr>\n",
       "    <tr>\n",
       "      <th>2</th>\n",
       "      <td>5paidtelevision</td>\n",
       "      <td>paidtelevision</td>\n",
       "    </tr>\n",
       "    <tr>\n",
       "      <th>3</th>\n",
       "      <td>5paidtelevisionplus1</td>\n",
       "      <td>paidtelevision</td>\n",
       "    </tr>\n",
       "    <tr>\n",
       "      <th>4</th>\n",
       "      <td>5select</td>\n",
       "      <td>paidtelevision</td>\n",
       "    </tr>\n",
       "    <tr>\n",
       "      <th>5</th>\n",
       "      <td>5spike</td>\n",
       "      <td>paidtelevision</td>\n",
       "    </tr>\n",
       "    <tr>\n",
       "      <th>6</th>\n",
       "      <td>5star</td>\n",
       "      <td>paidtelevision</td>\n",
       "    </tr>\n",
       "    <tr>\n",
       "      <th>7</th>\n",
       "      <td>5starplus1</td>\n",
       "      <td>paidtelevision</td>\n",
       "    </tr>\n",
       "    <tr>\n",
       "      <th>8</th>\n",
       "      <td>5tv</td>\n",
       "      <td>paidtelevision</td>\n",
       "    </tr>\n",
       "    <tr>\n",
       "      <th>9</th>\n",
       "      <td>5tvplus1</td>\n",
       "      <td>paidtelevision</td>\n",
       "    </tr>\n",
       "  </tbody>\n",
       "</table>\n",
       "</div>"
      ],
      "text/plain": [
       "          map_publisher         channel\n",
       "0                4music  paidtelevision\n",
       "1                4seven  paidtelevision\n",
       "2       5paidtelevision  paidtelevision\n",
       "3  5paidtelevisionplus1  paidtelevision\n",
       "4               5select  paidtelevision\n",
       "5                5spike  paidtelevision\n",
       "6                 5star  paidtelevision\n",
       "7            5starplus1  paidtelevision\n",
       "8                   5tv  paidtelevision\n",
       "9              5tvplus1  paidtelevision"
      ]
     },
     "execution_count": 21,
     "metadata": {},
     "output_type": "execute_result"
    }
   ],
   "source": [
    "# display first 10 rows of our dataset to see how the data looks like.\n",
    "pub_chan_map.head(10)"
   ]
  },
  {
   "cell_type": "code",
   "execution_count": 5,
   "metadata": {
    "collapsed": false
   },
   "outputs": [
    {
     "data": {
      "text/plain": [
       "paidtelevision    472\n",
       "paidradio          66\n",
       "paiddisplay         5\n",
       "paidsearch          3\n",
       "paidoutofhome       2\n",
       "paidvideo           1\n",
       "paidsocial          1\n",
       "Name: channel, dtype: int64"
      ]
     },
     "execution_count": 5,
     "metadata": {},
     "output_type": "execute_result"
    }
   ],
   "source": [
    "# Since channel is our class label, let's look at its distribution.\n",
    "pub_chan_map[\"channel\"].value_counts()"
   ]
  },
  {
   "cell_type": "markdown",
   "metadata": {},
   "source": [
    "### Step 2: Data Preprocessing "
   ]
  },
  {
   "cell_type": "markdown",
   "metadata": {},
   "source": [
    "### 1) Split text without spaces into list of words. We're mainly interested in splitting the text data in the map_publisher column, because there are no unique values which can be fed to our Bayesian(Naive Bayes) algorithm. For instance, let's say our input is \"5starplus1\" we'd like to split such text into list of words and get: ['5', 'star', 'plus', '1']. How do we do this efficiently? Well, we could probabilistically split concatenated words using NLP based on English Wikipedia unigram frequencies. We'd be using Wordninja, a Python package to perform this task.\n",
    "\n",
    "#### Wordninja GitHub repo: https://github.com/keredson/wordninja"
   ]
  },
  {
   "cell_type": "code",
   "execution_count": 10,
   "metadata": {
    "collapsed": false
   },
   "outputs": [
    {
     "data": {
      "text/plain": [
       "['5', 'star', 'plus', '1']"
      ]
     },
     "execution_count": 10,
     "metadata": {},
     "output_type": "execute_result"
    }
   ],
   "source": [
    "# Here's how we split the nonspaced text using wordninja.\n",
    "import wordninja\n",
    "word_split = wordninja.split('5starplus1')\n",
    "word_split"
   ]
  },
  {
   "cell_type": "markdown",
   "metadata": {},
   "source": [
    "### As you can see, the result for the above unspaced text is a \"list\" rather than a \"string\". So, we've to join those list of words to form a sentence. "
   ]
  },
  {
   "cell_type": "code",
   "execution_count": 9,
   "metadata": {
    "collapsed": false
   },
   "outputs": [
    {
     "name": "stdout",
     "output_type": "stream",
     "text": [
      "5 star plus 1\n"
     ]
    }
   ],
   "source": [
    "# this is how we convert a list of words into a sentence in Python.\n",
    "print (' '.join(word for word in word_split))"
   ]
  },
  {
   "cell_type": "markdown",
   "metadata": {},
   "source": [
    "### Okay, now let's apply the above logic to our entire dataset. Please note that we'd also be excluding the digits from our text, because I think the digits in the map_publisher field aren't that useful for our Bayesian model. So, our preprocessed text would only contain text."
   ]
  },
  {
   "cell_type": "code",
   "execution_count": 22,
   "metadata": {
    "collapsed": false
   },
   "outputs": [],
   "source": [
    "## split the text in the \"map_publisher\" column and save it into a new column in our dataframe.\n",
    "pub_chan_map[\"new_map_publisher\"] = pub_chan_map['map_publisher'].apply(lambda x: wordninja.split(x))\n",
    "pub_chan_map[\"new_map_publisher\"] = pub_chan_map['new_map_publisher'].apply(lambda x: ' ' .join(word for word in x if not word.isdigit()))"
   ]
  },
  {
   "cell_type": "code",
   "execution_count": 23,
   "metadata": {
    "collapsed": false
   },
   "outputs": [],
   "source": [
    "# split the text in the \"channel\" column and save it into a new column in our dataframe.\n",
    "pub_chan_map[\"new_channel\"] = pub_chan_map[\"channel\"].apply(lambda x: wordninja.split(x))\n",
    "pub_chan_map[\"new_channel\"] = pub_chan_map[\"new_channel\"].apply(lambda x: ' '.join(word for word in x))"
   ]
  },
  {
   "cell_type": "markdown",
   "metadata": {},
   "source": [
    "### This is how our new dataset looks like:"
   ]
  },
  {
   "cell_type": "code",
   "execution_count": 24,
   "metadata": {
    "collapsed": false
   },
   "outputs": [
    {
     "data": {
      "text/html": [
       "<div>\n",
       "<table border=\"1\" class=\"dataframe\">\n",
       "  <thead>\n",
       "    <tr style=\"text-align: right;\">\n",
       "      <th></th>\n",
       "      <th>map_publisher</th>\n",
       "      <th>channel</th>\n",
       "      <th>new_map_publisher</th>\n",
       "      <th>new_channel</th>\n",
       "    </tr>\n",
       "  </thead>\n",
       "  <tbody>\n",
       "    <tr>\n",
       "      <th>0</th>\n",
       "      <td>4music</td>\n",
       "      <td>paidtelevision</td>\n",
       "      <td>music</td>\n",
       "      <td>paid television</td>\n",
       "    </tr>\n",
       "    <tr>\n",
       "      <th>1</th>\n",
       "      <td>4seven</td>\n",
       "      <td>paidtelevision</td>\n",
       "      <td>seven</td>\n",
       "      <td>paid television</td>\n",
       "    </tr>\n",
       "    <tr>\n",
       "      <th>2</th>\n",
       "      <td>5paidtelevision</td>\n",
       "      <td>paidtelevision</td>\n",
       "      <td>paid television</td>\n",
       "      <td>paid television</td>\n",
       "    </tr>\n",
       "    <tr>\n",
       "      <th>3</th>\n",
       "      <td>5paidtelevisionplus1</td>\n",
       "      <td>paidtelevision</td>\n",
       "      <td>paid television plus</td>\n",
       "      <td>paid television</td>\n",
       "    </tr>\n",
       "    <tr>\n",
       "      <th>4</th>\n",
       "      <td>5select</td>\n",
       "      <td>paidtelevision</td>\n",
       "      <td>select</td>\n",
       "      <td>paid television</td>\n",
       "    </tr>\n",
       "    <tr>\n",
       "      <th>5</th>\n",
       "      <td>5spike</td>\n",
       "      <td>paidtelevision</td>\n",
       "      <td>spike</td>\n",
       "      <td>paid television</td>\n",
       "    </tr>\n",
       "    <tr>\n",
       "      <th>6</th>\n",
       "      <td>5star</td>\n",
       "      <td>paidtelevision</td>\n",
       "      <td>star</td>\n",
       "      <td>paid television</td>\n",
       "    </tr>\n",
       "    <tr>\n",
       "      <th>7</th>\n",
       "      <td>5starplus1</td>\n",
       "      <td>paidtelevision</td>\n",
       "      <td>star plus</td>\n",
       "      <td>paid television</td>\n",
       "    </tr>\n",
       "    <tr>\n",
       "      <th>8</th>\n",
       "      <td>5tv</td>\n",
       "      <td>paidtelevision</td>\n",
       "      <td>tv</td>\n",
       "      <td>paid television</td>\n",
       "    </tr>\n",
       "    <tr>\n",
       "      <th>9</th>\n",
       "      <td>5tvplus1</td>\n",
       "      <td>paidtelevision</td>\n",
       "      <td>tv plus</td>\n",
       "      <td>paid television</td>\n",
       "    </tr>\n",
       "  </tbody>\n",
       "</table>\n",
       "</div>"
      ],
      "text/plain": [
       "          map_publisher         channel     new_map_publisher      new_channel\n",
       "0                4music  paidtelevision                 music  paid television\n",
       "1                4seven  paidtelevision                 seven  paid television\n",
       "2       5paidtelevision  paidtelevision       paid television  paid television\n",
       "3  5paidtelevisionplus1  paidtelevision  paid television plus  paid television\n",
       "4               5select  paidtelevision                select  paid television\n",
       "5                5spike  paidtelevision                 spike  paid television\n",
       "6                 5star  paidtelevision                  star  paid television\n",
       "7            5starplus1  paidtelevision             star plus  paid television\n",
       "8                   5tv  paidtelevision                    tv  paid television\n",
       "9              5tvplus1  paidtelevision               tv plus  paid television"
      ]
     },
     "execution_count": 24,
     "metadata": {},
     "output_type": "execute_result"
    }
   ],
   "source": [
    "pub_chan_map.head(10)\n",
    "# the last 2 columns were generated from our preprocessing step."
   ]
  },
  {
   "cell_type": "markdown",
   "metadata": {},
   "source": [
    "### Let's drop our old columns and only use the columns which were generated from our preprocessing step"
   ]
  },
  {
   "cell_type": "code",
   "execution_count": 25,
   "metadata": {
    "collapsed": true
   },
   "outputs": [],
   "source": [
    "pub_chan_map.drop(['map_publisher','channel'], axis = 1, inplace=True) # drop the old columns"
   ]
  },
  {
   "cell_type": "code",
   "execution_count": 26,
   "metadata": {
    "collapsed": false
   },
   "outputs": [
    {
     "data": {
      "text/html": [
       "<div>\n",
       "<table border=\"1\" class=\"dataframe\">\n",
       "  <thead>\n",
       "    <tr style=\"text-align: right;\">\n",
       "      <th></th>\n",
       "      <th>new_map_publisher</th>\n",
       "      <th>new_channel</th>\n",
       "    </tr>\n",
       "  </thead>\n",
       "  <tbody>\n",
       "    <tr>\n",
       "      <th>0</th>\n",
       "      <td>music</td>\n",
       "      <td>paid television</td>\n",
       "    </tr>\n",
       "    <tr>\n",
       "      <th>1</th>\n",
       "      <td>seven</td>\n",
       "      <td>paid television</td>\n",
       "    </tr>\n",
       "    <tr>\n",
       "      <th>2</th>\n",
       "      <td>paid television</td>\n",
       "      <td>paid television</td>\n",
       "    </tr>\n",
       "    <tr>\n",
       "      <th>3</th>\n",
       "      <td>paid television plus</td>\n",
       "      <td>paid television</td>\n",
       "    </tr>\n",
       "    <tr>\n",
       "      <th>4</th>\n",
       "      <td>select</td>\n",
       "      <td>paid television</td>\n",
       "    </tr>\n",
       "    <tr>\n",
       "      <th>5</th>\n",
       "      <td>spike</td>\n",
       "      <td>paid television</td>\n",
       "    </tr>\n",
       "    <tr>\n",
       "      <th>6</th>\n",
       "      <td>star</td>\n",
       "      <td>paid television</td>\n",
       "    </tr>\n",
       "    <tr>\n",
       "      <th>7</th>\n",
       "      <td>star plus</td>\n",
       "      <td>paid television</td>\n",
       "    </tr>\n",
       "    <tr>\n",
       "      <th>8</th>\n",
       "      <td>tv</td>\n",
       "      <td>paid television</td>\n",
       "    </tr>\n",
       "    <tr>\n",
       "      <th>9</th>\n",
       "      <td>tv plus</td>\n",
       "      <td>paid television</td>\n",
       "    </tr>\n",
       "  </tbody>\n",
       "</table>\n",
       "</div>"
      ],
      "text/plain": [
       "      new_map_publisher      new_channel\n",
       "0                 music  paid television\n",
       "1                 seven  paid television\n",
       "2       paid television  paid television\n",
       "3  paid television plus  paid television\n",
       "4                select  paid television\n",
       "5                 spike  paid television\n",
       "6                  star  paid television\n",
       "7             star plus  paid television\n",
       "8                    tv  paid television\n",
       "9               tv plus  paid television"
      ]
     },
     "execution_count": 26,
     "metadata": {},
     "output_type": "execute_result"
    }
   ],
   "source": [
    "pub_chan_map.head(10) # this is how our new dataset looks like."
   ]
  },
  {
   "cell_type": "markdown",
   "metadata": {},
   "source": [
    "## Step 3 : Build a text categorization/classification model."
   ]
  },
  {
   "cell_type": "markdown",
   "metadata": {},
   "source": [
    "## 1) Imbalanced Classes"
   ]
  },
  {
   "cell_type": "markdown",
   "metadata": {},
   "source": [
    "### We see that the number of media channels per publisher is imbalanced. Advertisers are more biased towards Paid television and Paid radio.\n",
    "\n",
    "### Background: When we encounter such problems, we are bound to have difficulties solving them with standard algorithms. Conventional algorithms are often biased towards the majority class, not taking the data distribution into consideration. In the worst case, minority classes are treated as outliers and ignored. For some cases, such as  cancer prediction, we would need to carefully configure our model or artificially balance the dataset, for example by undersampling or oversampling each class.\n",
    "\n",
    "### Takeaway: However, in our case of learning imbalanced data, the majority classes might be of our great interest. It is desirable to have a classifier that gives high prediction accuracy over the majority class, while maintaining reasonable accuracy for the minority classes. Therefore, we will leave it as it is."
   ]
  },
  {
   "cell_type": "code",
   "execution_count": 52,
   "metadata": {
    "collapsed": false
   },
   "outputs": [
    {
     "data": {
      "image/png": "[encoded data removed]",
      "text/plain": [
       "<matplotlib.figure.Figure at 0x1a1da917f0>"
      ]
     },
     "metadata": {},
     "output_type": "display_data"
    }
   ],
   "source": [
    "import matplotlib.pyplot as plt\n",
    "fig = plt.figure(figsize=(8,6))\n",
    "pub_chan_map.groupby('new_channel').new_map_publisher.count().plot.bar(ylim=0)\n",
    "plt.show()"
   ]
  },
  {
   "cell_type": "markdown",
   "metadata": {},
   "source": [
    "## 2) Data to vectors\n",
    "\n",
    "### Now we'll convert each publisher, represented as a string, into a vector that machine learning models can understand.\n",
    "\n",
    "### Now we need to transform the probability we want to calculate into something that can be calculated using word frequencies. For this, we will use some basic properties of probabilities, and Bayes’ Theorem. \n",
    "\n",
    "### Doing that requires essentially three steps, in the bag-of-words model:\n",
    "\n",
    "##### a) counting how many times does a word occur in each publisher (term frequency)\n",
    "##### b) weighting the counts, so that frequent tokens get lower weight (inverse document frequency)\n",
    "##### c) normalizing the vectors to unit length, to abstract from the original text length (L2 norm)"
   ]
  },
  {
   "cell_type": "code",
   "execution_count": 30,
   "metadata": {
    "collapsed": false
   },
   "outputs": [
    {
     "data": {
      "text/plain": [
       "(550, 54)"
      ]
     },
     "execution_count": 30,
     "metadata": {},
     "output_type": "execute_result"
    }
   ],
   "source": [
    "## We will use sklearn.feature_extraction.text.TfidfVectorizer to calculate a tf-idf vector for each of our publishers:\n",
    "## Hyperparameters: sublinear_df, min_df, norm, encoding, ngram_range.\n",
    "# sublinear_df is set to True to use a logarithmic form for frequency.\n",
    "# min_df is the minimum numbers of documents a word must be present in to be kept.\n",
    "# norm is set to l2, to ensure all our feature vectors have a euclidian norm of 1.\n",
    "# ngram_range is set to (1, 2) to indicate that we want to consider both unigrams and bigrams.\n",
    "\n",
    "tfidf = TfidfVectorizer(sublinear_tf=True, min_df=5, norm='l2', encoding='latin-1', ngram_range=(1, 2))\n",
    "features = tfidf.fit_transform(pub_chan_map.new_map_publisher).toarray()\n",
    "labels = pub_chan_map.new_channel\n",
    "features.shape"
   ]
  },
  {
   "cell_type": "markdown",
   "metadata": {},
   "source": [
    "### Now, each of 550 media publishers is represented by 54 features, representing the tf-idf score for different unigrams and bigrams."
   ]
  },
  {
   "cell_type": "markdown",
   "metadata": {},
   "source": [
    "## Takeaways:\n",
    "\n",
    "### To train our bayesian classifier, we first transformed the “publisher_map” into a vector of numbers. We explored vector representations such as TF-IDF weighted vectors.\n",
    "\n",
    "### After having this vector representations of the text we can train our bayesian classifier to learn unseen “publishers” and predict the “media channel” on which they fall.\n"
   ]
  },
  {
   "cell_type": "markdown",
   "metadata": {},
   "source": [
    "----"
   ]
  },
  {
   "cell_type": "markdown",
   "metadata": {},
   "source": [
    "# 3) Naive Bayes Classifier"
   ]
  },
  {
   "cell_type": "markdown",
   "metadata": {},
   "source": [
    "### After all the above data transformation, now that we have all the features and labels, it is time to train our bayesian classifier. We will be using the Naive Bayes Classifier. The one most suitable for word counts is the multinomial variant of Naive Bayes.\n",
    "\n",
    "### Multinomial Naive Bayes: \"Feature vectors represent the frequencies with which certain events have been generated by a multinomial distribution. This is the event model typically used for document classification.\""
   ]
  },
  {
   "cell_type": "code",
   "execution_count": 64,
   "metadata": {
    "collapsed": false
   },
   "outputs": [],
   "source": [
    "## 75-25 train v/s test split.\n",
    "X_train, X_test, y_train, y_test = train_test_split(pub_chan_map['new_map_publisher'], pub_chan_map['new_channel'], random_state = 0)\n",
    "count_vect = CountVectorizer()\n",
    "X_train_counts = count_vect.fit_transform(X_train)\n",
    "tfidf_transformer = TfidfTransformer()\n",
    "X_train_tfidf = tfidf_transformer.fit_transform(X_train_counts)\n",
    "clf = MultinomialNB().fit(X_train_tfidf, y_train)"
   ]
  },
  {
   "cell_type": "markdown",
   "metadata": {},
   "source": [
    "#### So, as requested, the test size is 25% of the entire dataset (138 publishers out of total 550), and the training is the rest (412 out of 550)."
   ]
  },
  {
   "cell_type": "code",
   "execution_count": 65,
   "metadata": {
    "collapsed": false
   },
   "outputs": [
    {
     "name": "stdout",
     "output_type": "stream",
     "text": [
      "412 138 550\n"
     ]
    }
   ],
   "source": [
    "print (len(X_train), len(X_test), len(y_train) + len(y_test))"
   ]
  },
  {
   "cell_type": "markdown",
   "metadata": {},
   "source": [
    "### 10-fold Cross-validation: \n",
    "\n",
    "### \"A common practice is to partition the training set again, into smaller subsets; for example, 10 equally sized subsets. Then we train the model on nine parts, and compute accuracy on the last part (called \"validation set\"). Repeated ten time times (taking different part for evaluation each time), we get a sense of model \"stability\". If the model gives wildly different scores for different subsets, it's a sign something is wrong (bad data, or bad model variance). Go back, analyze errors, re-check input data for garbage, re-check data cleaning.\""
   ]
  },
  {
   "cell_type": "code",
   "execution_count": 66,
   "metadata": {
    "collapsed": true
   },
   "outputs": [],
   "source": [
    "from sklearn.model_selection import cross_val_score\n",
    "models = [\n",
    "    MultinomialNB(),\n",
    "]\n",
    "CV = 10 # 10-fold\n",
    "cv_df = pd.DataFrame(index=range(CV * len(models)))\n",
    "entries = []\n",
    "for model in models:\n",
    "  model_name = model.__class__.__name__\n",
    "  accuracies = cross_val_score(model, features, labels, scoring='accuracy', cv=CV)\n",
    "  for fold_idx, accuracy in enumerate(accuracies):\n",
    "    entries.append((model_name, fold_idx, accuracy))\n",
    "cv_df = pd.DataFrame(entries, columns=['model_name', 'fold_idx', 'accuracy'])"
   ]
  },
  {
   "cell_type": "markdown",
   "metadata": {},
   "source": [
    "### Model accuracy: 96%. The scores are already high here, but how could we improve this model in the future?\n",
    "\n",
    "1) Get more training data with a balanced class distribution to overcome low model complexity. Our dataset has a pretty high class imbalance ratio, so \n",
    "the model may not be able to generalize well to new publishers from a media channel with a lower class distribution.\n",
    "\n",
    "2) Try different text preprocessing techniques like lemmatization, stemming, stopwords removal to generate more features."
   ]
  },
  {
   "cell_type": "code",
   "execution_count": 67,
   "metadata": {
    "collapsed": false
   },
   "outputs": [
    {
     "data": {
      "text/plain": [
       "model_name\n",
       "MultinomialNB    0.961134\n",
       "Name: accuracy, dtype: float64"
      ]
     },
     "execution_count": 67,
     "metadata": {},
     "output_type": "execute_result"
    }
   ],
   "source": [
    "cv_df.groupby('model_name').accuracy.mean()"
   ]
  },
  {
   "cell_type": "markdown",
   "metadata": {},
   "source": [
    "### 96% accuracy?? Did the model overfit? I'd say it's very unlikely our model would've overfit because Naive-Bayes is an example of high bias - low variance classifier ( aka simple and stable, not prone to overfitting) and we've also performed 10-fold cross-validation to avoid it."
   ]
  },
  {
   "cell_type": "markdown",
   "metadata": {},
   "source": [
    "----"
   ]
  },
  {
   "cell_type": "markdown",
   "metadata": {},
   "source": [
    "# 4) Being Naive"
   ]
  },
  {
   "cell_type": "markdown",
   "metadata": {},
   "source": [
    "### Okay, let's see if our model is able to map a new(or unseen) publisher to a media channel. "
   ]
  },
  {
   "cell_type": "markdown",
   "metadata": {},
   "source": [
    "### So here comes the Naive part: we assume that every word in a sentence is independent of the other ones. This means that we’re no longer looking at entire sentences, but rather at individual words. So for our purposes, “los angeles city network” is the same as “city los angeles network” and “network angeles city los”."
   ]
  },
  {
   "cell_type": "markdown",
   "metadata": {},
   "source": [
    "### Prediction"
   ]
  },
  {
   "cell_type": "code",
   "execution_count": 98,
   "metadata": {
    "collapsed": false
   },
   "outputs": [
    {
     "name": "stdout",
     "output_type": "stream",
     "text": [
      "['paid radio']\n"
     ]
    }
   ],
   "source": [
    "print(clf.predict(count_vect.transform([\"los angeles city network\"])))"
   ]
  },
  {
   "cell_type": "code",
   "execution_count": 99,
   "metadata": {
    "collapsed": false
   },
   "outputs": [
    {
     "name": "stdout",
     "output_type": "stream",
     "text": [
      "['paid radio']\n"
     ]
    }
   ],
   "source": [
    "print(clf.predict(count_vect.transform([\"city los angeles network\"])))"
   ]
  },
  {
   "cell_type": "markdown",
   "metadata": {},
   "source": [
    "#### Finally, we print out the classification report for each class: \n",
    "\n",
    "Only paid television has an f1, precision, recall scores because of our class distribution being so skewed towards it."
   ]
  },
  {
   "cell_type": "code",
   "execution_count": 84,
   "metadata": {
    "collapsed": false
   },
   "outputs": [
    {
     "name": "stdout",
     "output_type": "stream",
     "text": [
      "                  precision    recall  f1-score   support\n",
      "\n",
      "    paid display       0.00      0.00      0.00         1\n",
      "paid out of home       0.00      0.00      0.00         1\n",
      "      paid radio       0.00      0.00      0.00        15\n",
      " paid television       0.88      1.00      0.93       121\n",
      "\n",
      "       micro avg       0.88      0.88      0.88       138\n",
      "       macro avg       0.22      0.25      0.23       138\n",
      "    weighted avg       0.77      0.88      0.82       138\n",
      "\n"
     ]
    }
   ],
   "source": [
    "from sklearn.metrics import confusion_matrix\n",
    "from sklearn.metrics import classification_report\n",
    "predictions = clf.predict(count_vect.transform(y_test))\n",
    "print(classification_report(y_test, predictions))"
   ]
  }
 ],
 "metadata": {
  "kernelspec": {
   "display_name": "Python [default]",
   "language": "python",
   "name": "python3"
  },
  "language_info": {
   "codemirror_mode": {
    "name": "ipython",
    "version": 3
   },
   "file_extension": ".py",
   "mimetype": "text/x-python",
   "name": "python",
   "nbconvert_exporter": "python",
   "pygments_lexer": "ipython3",
   "version": "3.5.2"
  }
 },
 "nbformat": 4,
 "nbformat_minor": 2
}
